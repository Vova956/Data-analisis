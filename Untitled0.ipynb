{
  "nbformat": 4,
  "nbformat_minor": 0,
  "metadata": {
    "colab": {
      "provenance": [],
      "collapsed_sections": []
    },
    "kernelspec": {
      "name": "python3",
      "display_name": "Python 3"
    },
    "language_info": {
      "name": "python"
    }
  },
  "cells": [
    {
      "cell_type": "markdown",
      "source": [
        "Printing counties"
      ],
      "metadata": {
        "id": "yFS8YKojEpg5"
      }
    },
    {
      "cell_type": "code",
      "execution_count": 7,
      "metadata": {
        "colab": {
          "base_uri": "https://localhost:8080/"
        },
        "id": "elRvGLq4C-7V",
        "outputId": "e94944a9-9949-41c0-896f-50feef04623d"
      },
      "outputs": [
        {
          "output_type": "stream",
          "name": "stdout",
          "text": [
            "--------Countries---------\n",
            "Finland\n",
            "Denmark\n",
            "Switzerland\n",
            "Iceland\n",
            "Netherlands\n",
            "Norway\n",
            "Sweden\n",
            "Luxembourg\n",
            "New Zealand\n",
            "Austria\n",
            "Australia\n",
            "Israel\n",
            "Germany\n",
            "Canada\n",
            "Ireland\n",
            "Costa Rica\n",
            "United Kingdom\n",
            "Czech Republic\n",
            "United States\n",
            "Belgium\n",
            "France\n",
            "Bahrain\n",
            "Malta\n",
            "Taiwan Province of China\n",
            "United Arab Emirates\n",
            "Saudi Arabia\n",
            "Spain\n",
            "Italy\n",
            "Slovenia\n",
            "Guatemala\n",
            "Uruguay\n",
            "Singapore\n",
            "Kosovo\n",
            "Slovakia\n",
            "Brazil\n",
            "Mexico\n",
            "Jamaica\n",
            "Lithuania\n",
            "Cyprus\n",
            "Estonia\n",
            "Panama\n",
            "Uzbekistan\n",
            "Chile\n",
            "Poland\n",
            "Kazakhstan\n",
            "Romania\n",
            "Kuwait\n",
            "Serbia\n",
            "El Salvador\n",
            "Mauritius\n",
            "Latvia\n",
            "Colombia\n",
            "Hungary\n",
            "Thailand\n",
            "Nicaragua\n",
            "Japan\n",
            "Argentina\n",
            "Portugal\n",
            "Honduras\n",
            "Croatia\n",
            "Philippines\n",
            "South Korea\n",
            "Peru\n",
            "Bosnia and Herzegovina\n",
            "Moldova\n",
            "Ecuador\n",
            "Kyrgyzstan\n",
            "Greece\n",
            "Bolivia\n",
            "Mongolia\n",
            "Paraguay\n",
            "Montenegro\n",
            "Dominican Republic\n",
            "North Cyprus\n",
            "Belarus\n",
            "Russia\n",
            "Hong Kong S.A.R. of China\n",
            "Tajikistan\n",
            "Vietnam\n",
            "Libya\n",
            "Malaysia\n",
            "Indonesia\n",
            "Congo (Brazzaville)\n",
            "China\n",
            "Ivory Coast\n",
            "Armenia\n",
            "Nepal\n",
            "Bulgaria\n",
            "Maldives\n",
            "Azerbaijan\n",
            "Cameroon\n",
            "Senegal\n",
            "Albania\n",
            "North Macedonia\n",
            "Ghana\n",
            "Niger\n",
            "Turkmenistan\n",
            "Gambia\n",
            "Benin\n",
            "Laos\n",
            "Bangladesh\n",
            "Guinea\n",
            "South Africa\n",
            "Turkey\n",
            "Pakistan\n",
            "Morocco\n",
            "Venezuela\n",
            "Georgia\n",
            "Algeria\n",
            "Ukraine\n",
            "Iraq\n",
            "Gabon\n",
            "Burkina Faso\n",
            "Cambodia\n",
            "Mozambique\n",
            "Nigeria\n",
            "Mali\n",
            "Iran\n",
            "Uganda\n",
            "Liberia\n",
            "Kenya\n",
            "Tunisia\n",
            "Lebanon\n",
            "Namibia\n",
            "Palestinian Territories\n",
            "Myanmar\n",
            "Jordan\n",
            "Chad\n",
            "Sri Lanka\n",
            "Swaziland\n",
            "Comoros\n",
            "Egypt\n",
            "Ethiopia\n",
            "Mauritania\n",
            "Madagascar\n",
            "Togo\n",
            "Zambia\n",
            "Sierra Leone\n",
            "India\n",
            "Burundi\n",
            "Yemen\n",
            "Tanzania\n",
            "Haiti\n",
            "Malawi\n",
            "Lesotho\n",
            "Botswana\n",
            "Rwanda\n",
            "Zimbabwe\n",
            "Afghanistan\n"
          ]
        }
      ],
      "source": [
        "import csv \n",
        "import matplotlib.pyplot as plt \n",
        "\n",
        "filePath = \"world-happiness-report-2021.csv\"\n",
        "\n",
        "with open(filePath) as file :\n",
        "    reader = csv.reader(file)\n",
        "    header = next(reader)\n",
        "    data = []\n",
        "    for row in reader :\n",
        "        data.append(row)\n",
        "file.close()\n",
        "\n",
        "print(\"--------Countries---------\")\n",
        "for i in range(0, len(data)):\n",
        "    print(data[i][0])"
      ]
    },
    {
      "cell_type": "markdown",
      "source": [
        "Printing unique regions"
      ],
      "metadata": {
        "id": "x9I_hSS4D8iS"
      }
    },
    {
      "cell_type": "code",
      "source": [
        "import csv \n",
        "import matplotlib.pyplot as plt \n",
        "\n",
        "filePath = \"world-happiness-report-2021.csv\"\n",
        "\n",
        "with open(filePath) as file :\n",
        "    reader = csv.reader(file)\n",
        "    header = next(reader)\n",
        "    data = []\n",
        "    for row in reader :\n",
        "        data.append(row)\n",
        "file.close()\n",
        "\n",
        "print(\"--------Unique regions--------\")\n",
        "\n",
        "z = True\n",
        "\n",
        "for i in range(0, len(data)):\n",
        "    region = data[i][1]\n",
        "    for j in range(0, len(data)):\n",
        "        if(i != j and data[i][1] == data[j][1]):\n",
        "            z = False\n",
        "            break\n",
        "    if(z):\n",
        "        print(data[i][1])"
      ],
      "metadata": {
        "colab": {
          "base_uri": "https://localhost:8080/"
        },
        "id": "NIzqCaZUD59K",
        "outputId": "9e4e8f43-ad35-4057-f67b-c0f4fc679c5f"
      },
      "execution_count": 6,
      "outputs": [
        {
          "output_type": "stream",
          "name": "stdout",
          "text": [
            "--------Unique regions--------\n"
          ]
        }
      ]
    },
    {
      "cell_type": "markdown",
      "source": [
        "Printing Table"
      ],
      "metadata": {
        "id": "hC-armjGEwv5"
      }
    },
    {
      "cell_type": "code",
      "source": [
        "import csv \n",
        "import matplotlib.pyplot as plt \n",
        "\n",
        "filePath = \"world-happiness-report-2021.csv\"\n",
        "\n",
        "with open(filePath) as file :\n",
        "    reader = csv.reader(file)\n",
        "    header = next(reader)\n",
        "    data = []\n",
        "    for row in reader :\n",
        "        data.append(row)\n",
        "file.close()\n",
        "\n",
        "print(\"--------Table--------\")\n",
        "\n",
        "for i in range(0, len(data)):\n",
        "    str = \"\"\n",
        "    for j in range(2, len(data[0])):\n",
        "        str += data[i][j]\n",
        "        str += \" \"\n",
        "    print(str)"
      ],
      "metadata": {
        "colab": {
          "base_uri": "https://localhost:8080/"
        },
        "id": "LnjNbhUoENlP",
        "outputId": "db4e433f-a98d-4729-a881-6b2ff819094c"
      },
      "execution_count": 19,
      "outputs": [
        {
          "output_type": "stream",
          "name": "stdout",
          "text": [
            "--------Table--------\n",
            "7.842 0.032 7.904 7.780 10.775 0.954 72.000 0.949 -0.098 0.186 2.430 1.446 1.106 0.741 0.691 0.124 0.481 3.253 \n",
            "7.620 0.035 7.687 7.552 10.933 0.954 72.700 0.946 0.030 0.179 2.430 1.502 1.108 0.763 0.686 0.208 0.485 2.868 \n",
            "7.571 0.036 7.643 7.500 11.117 0.942 74.400 0.919 0.025 0.292 2.430 1.566 1.079 0.816 0.653 0.204 0.413 2.839 \n",
            "7.554 0.059 7.670 7.438 10.878 0.983 73.000 0.955 0.160 0.673 2.430 1.482 1.172 0.772 0.698 0.293 0.170 2.967 \n",
            "7.464 0.027 7.518 7.410 10.932 0.942 72.400 0.913 0.175 0.338 2.430 1.501 1.079 0.753 0.647 0.302 0.384 2.798 \n",
            "7.392 0.035 7.462 7.323 11.053 0.954 73.300 0.960 0.093 0.270 2.430 1.543 1.108 0.782 0.703 0.249 0.427 2.580 \n",
            "7.363 0.036 7.433 7.293 10.867 0.934 72.700 0.945 0.086 0.237 2.430 1.478 1.062 0.763 0.685 0.244 0.448 2.683 \n",
            "7.324 0.037 7.396 7.252 11.647 0.908 72.600 0.907 -0.034 0.386 2.430 1.751 1.003 0.760 0.639 0.166 0.353 2.653 \n",
            "7.277 0.040 7.355 7.198 10.643 0.948 73.400 0.929 0.134 0.242 2.430 1.400 1.094 0.785 0.665 0.276 0.445 2.612 \n",
            "7.268 0.036 7.337 7.198 10.906 0.934 73.300 0.908 0.042 0.481 2.430 1.492 1.062 0.782 0.640 0.215 0.292 2.784 \n",
            "7.183 0.041 7.265 7.102 10.796 0.940 73.900 0.914 0.159 0.442 2.430 1.453 1.076 0.801 0.647 0.291 0.317 2.598 \n",
            "7.157 0.034 7.224 7.090 10.575 0.939 73.503 0.800 0.031 0.753 2.430 1.376 1.074 0.788 0.509 0.208 0.119 3.083 \n",
            "7.155 0.040 7.232 7.077 10.873 0.903 72.500 0.875 0.011 0.460 2.430 1.480 0.993 0.757 0.600 0.195 0.306 2.824 \n",
            "7.103 0.042 7.185 7.021 10.776 0.926 73.800 0.915 0.089 0.415 2.430 1.447 1.044 0.798 0.648 0.246 0.335 2.585 \n",
            "7.085 0.040 7.164 7.006 11.342 0.947 72.400 0.879 0.077 0.363 2.430 1.644 1.092 0.753 0.606 0.238 0.367 2.384 \n",
            "7.069 0.056 7.179 6.960 9.880 0.891 71.400 0.934 -0.126 0.809 2.430 1.134 0.966 0.722 0.673 0.105 0.083 3.387 \n",
            "7.064 0.038 7.138 6.990 10.707 0.934 72.500 0.859 0.233 0.459 2.430 1.423 1.062 0.757 0.580 0.340 0.306 2.596 \n",
            "6.965 0.049 7.062 6.868 10.556 0.947 70.807 0.858 -0.208 0.868 2.430 1.370 1.090 0.703 0.580 0.052 0.046 3.124 \n",
            "6.951 0.049 7.047 6.856 11.023 0.920 68.200 0.837 0.098 0.698 2.430 1.533 1.030 0.621 0.554 0.252 0.154 2.807 \n",
            "6.834 0.034 6.901 6.767 10.823 0.906 72.199 0.783 -0.153 0.646 2.430 1.463 0.998 0.747 0.489 0.088 0.187 2.862 \n",
            "6.690 0.037 6.762 6.618 10.704 0.942 74.000 0.822 -0.147 0.571 2.430 1.421 1.081 0.804 0.536 0.092 0.235 2.521 \n",
            "6.647 0.068 6.779 6.514 10.669 0.862 69.495 0.925 0.089 0.722 2.430 1.409 0.899 0.662 0.661 0.246 0.139 2.631 \n",
            "6.602 0.044 6.688 6.516 10.674 0.931 72.200 0.927 0.133 0.653 2.430 1.411 1.055 0.747 0.664 0.275 0.183 2.268 \n",
            "6.584 0.038 6.659 6.510 10.871 0.898 69.600 0.784 -0.070 0.721 2.430 1.480 0.982 0.665 0.490 0.142 0.139 2.687 \n",
            "6.561 0.039 6.637 6.484 11.085 0.844 67.333 0.932 0.074 0.589 2.430 1.555 0.860 0.594 0.670 0.236 0.223 2.422 \n",
            "6.494 0.056 6.604 6.384 10.743 0.891 66.603 0.877 -0.149 0.684 2.430 1.435 0.964 0.571 0.603 0.090 0.163 2.668 \n",
            "6.491 0.042 6.574 6.408 10.571 0.932 74.700 0.761 -0.081 0.745 2.430 1.375 1.057 0.826 0.462 0.135 0.124 2.513 \n",
            "6.483 0.045 6.572 6.395 10.623 0.880 73.800 0.693 -0.084 0.866 2.430 1.393 0.940 0.798 0.379 0.133 0.047 2.794 \n",
            "6.461 0.043 6.546 6.376 10.529 0.948 71.400 0.949 -0.101 0.806 2.430 1.360 1.093 0.722 0.690 0.122 0.085 2.388 \n",
            "6.435 0.073 6.577 6.292 9.053 0.813 64.958 0.906 -0.038 0.775 2.430 0.845 0.790 0.519 0.638 0.163 0.105 3.375 \n",
            "6.431 0.046 6.521 6.341 9.966 0.925 69.100 0.896 -0.092 0.590 2.430 1.164 1.042 0.649 0.625 0.128 0.223 2.600 \n",
            "6.377 0.043 6.460 6.293 11.488 0.915 76.953 0.927 -0.018 0.082 2.430 1.695 1.019 0.897 0.664 0.176 0.547 1.379 \n",
            "6.372 0.059 6.487 6.257 9.318 0.821 63.813 0.869 0.257 0.917 2.430 0.937 0.807 0.483 0.593 0.356 0.014 3.182 \n",
            "6.331 0.041 6.411 6.251 10.369 0.936 69.201 0.766 -0.124 0.911 2.430 1.304 1.066 0.653 0.468 0.107 0.018 2.714 \n",
            "6.330 0.043 6.415 6.245 9.577 0.882 66.601 0.804 -0.071 0.756 2.430 1.028 0.944 0.571 0.514 0.142 0.117 3.015 \n",
            "6.317 0.053 6.420 6.213 9.859 0.831 68.597 0.862 -0.147 0.799 2.430 1.126 0.830 0.634 0.585 0.092 0.089 2.961 \n",
            "6.309 0.156 6.615 6.004 9.186 0.877 67.500 0.890 -0.137 0.884 2.430 0.891 0.932 0.599 0.618 0.099 0.035 3.135 \n",
            "6.255 0.045 6.344 6.167 10.499 0.935 67.906 0.773 -0.203 0.826 2.430 1.350 1.065 0.612 0.476 0.056 0.073 2.624 \n",
            "6.223 0.049 6.319 6.128 10.576 0.802 73.898 0.763 -0.015 0.844 2.430 1.377 0.765 0.801 0.464 0.178 0.061 2.578 \n",
            "6.189 0.038 6.263 6.115 10.481 0.941 68.800 0.909 -0.106 0.527 2.430 1.344 1.079 0.640 0.641 0.119 0.263 2.103 \n",
            "6.180 0.073 6.323 6.036 10.350 0.896 69.652 0.872 -0.166 0.856 2.430 1.298 0.976 0.667 0.596 0.079 0.053 2.509 \n",
            "6.179 0.068 6.312 6.045 8.836 0.918 65.255 0.970 0.311 0.515 2.430 0.769 1.027 0.528 0.716 0.391 0.271 2.477 \n",
            "6.172 0.046 6.262 6.081 10.071 0.882 70.000 0.742 -0.044 0.830 2.430 1.200 0.946 0.678 0.438 0.159 0.070 2.682 \n",
            "6.166 0.040 6.245 6.087 10.382 0.898 69.702 0.841 -0.165 0.735 2.430 1.309 0.982 0.668 0.558 0.080 0.130 2.438 \n",
            "6.152 0.047 6.243 6.060 10.155 0.952 65.200 0.853 -0.069 0.733 2.430 1.230 1.103 0.527 0.573 0.143 0.132 2.446 \n",
            "6.140 0.057 6.253 6.027 10.284 0.832 67.355 0.845 -0.219 0.938 2.430 1.275 0.832 0.595 0.564 0.045 0.001 2.830 \n",
            "6.106 0.066 6.235 5.977 10.817 0.843 66.900 0.867 -0.104 0.736 2.430 1.461 0.857 0.580 0.591 0.120 0.130 2.368 \n",
            "6.078 0.053 6.181 5.974 9.787 0.873 68.600 0.778 0.002 0.835 2.430 1.101 0.924 0.634 0.482 0.189 0.066 2.682 \n",
            "6.061 0.065 6.188 5.933 9.054 0.762 66.402 0.888 -0.110 0.688 2.430 0.845 0.675 0.565 0.615 0.116 0.160 3.085 \n",
            "6.049 0.059 6.165 5.933 10.008 0.905 66.701 0.867 -0.054 0.789 2.430 1.178 0.996 0.574 0.590 0.153 0.096 2.462 \n",
            "6.032 0.036 6.103 5.961 10.315 0.927 67.100 0.715 -0.162 0.800 2.430 1.285 1.047 0.587 0.405 0.082 0.089 2.536 \n",
            "6.012 0.061 6.132 5.892 9.557 0.847 68.001 0.837 -0.135 0.841 2.430 1.021 0.866 0.615 0.554 0.100 0.063 2.794 \n",
            "5.992 0.047 6.085 5.899 10.358 0.943 68.000 0.755 -0.186 0.876 2.430 1.301 1.083 0.615 0.454 0.067 0.040 2.432 \n",
            "5.985 0.047 6.077 5.893 9.805 0.888 67.401 0.884 0.287 0.895 2.430 1.107 0.957 0.596 0.611 0.375 0.028 2.309 \n",
            "5.972 0.083 6.134 5.810 8.620 0.864 67.657 0.836 0.020 0.664 2.430 0.693 0.904 0.604 0.553 0.201 0.176 2.841 \n",
            "5.940 0.040 6.020 5.861 10.611 0.884 75.100 0.796 -0.258 0.638 2.430 1.389 0.949 0.838 0.504 0.020 0.192 2.048 \n",
            "5.929 0.056 6.040 5.819 9.962 0.898 69.000 0.828 -0.182 0.834 2.430 1.162 0.980 0.646 0.544 0.069 0.067 2.461 \n",
            "5.929 0.055 6.037 5.821 10.421 0.879 72.600 0.892 -0.244 0.887 2.430 1.323 0.939 0.760 0.621 0.029 0.033 2.225 \n",
            "5.919 0.082 6.081 5.758 8.648 0.812 67.300 0.857 0.081 0.809 2.430 0.703 0.787 0.593 0.578 0.241 0.083 2.934 \n",
            "5.882 0.048 5.975 5.788 10.217 0.924 70.799 0.754 -0.118 0.939 2.430 1.251 1.039 0.703 0.453 0.111 0.000 2.325 \n",
            "5.880 0.052 5.982 5.778 9.076 0.830 62.000 0.917 -0.097 0.742 2.430 0.853 0.828 0.426 0.651 0.125 0.126 2.872 \n",
            "5.845 0.042 5.928 5.763 10.651 0.799 73.900 0.672 -0.083 0.727 2.430 1.403 0.758 0.801 0.353 0.134 0.135 2.262 \n",
            "5.840 0.075 5.988 5.692 9.458 0.832 68.250 0.822 -0.154 0.891 2.430 0.986 0.833 0.623 0.536 0.087 0.031 2.744 \n",
            "5.813 0.050 5.911 5.715 9.590 0.870 68.098 0.706 0.113 0.931 2.430 1.032 0.919 0.618 0.395 0.261 0.005 2.583 \n",
            "5.766 0.046 5.856 5.677 9.454 0.857 65.699 0.822 -0.079 0.918 2.430 0.985 0.888 0.542 0.536 0.137 0.013 2.665 \n",
            "5.764 0.057 5.875 5.653 9.313 0.821 68.800 0.842 -0.124 0.843 2.430 0.935 0.806 0.640 0.560 0.107 0.062 2.653 \n",
            "5.744 0.046 5.834 5.653 8.538 0.893 64.401 0.935 0.119 0.908 2.430 0.665 0.971 0.501 0.673 0.266 0.020 2.648 \n",
            "5.723 0.046 5.813 5.632 10.279 0.823 72.600 0.582 -0.288 0.823 2.430 1.273 0.811 0.760 0.243 0.000 0.074 2.561 \n",
            "5.716 0.053 5.819 5.613 9.046 0.810 63.901 0.875 -0.077 0.839 2.430 0.842 0.782 0.486 0.600 0.138 0.064 2.805 \n",
            "5.677 0.042 5.760 5.595 9.400 0.935 62.500 0.708 0.116 0.856 2.430 0.966 1.065 0.442 0.397 0.263 0.053 2.492 \n",
            "5.653 0.092 5.832 5.473 9.448 0.893 65.900 0.876 0.028 0.882 2.430 0.983 0.970 0.549 0.602 0.206 0.037 2.306 \n",
            "5.581 0.054 5.686 5.475 9.940 0.858 68.699 0.708 -0.034 0.812 2.430 1.155 0.891 0.637 0.397 0.166 0.081 2.254 \n",
            "5.545 0.071 5.685 5.405 9.802 0.853 66.102 0.860 -0.133 0.714 2.430 1.106 0.879 0.555 0.581 0.101 0.144 2.178 \n",
            "5.536 0.051 5.636 5.435 10.576 0.820 73.898 0.795 0.012 0.626 2.430 1.377 0.806 0.801 0.503 0.196 0.200 1.653 \n",
            "5.534 0.047 5.625 5.442 9.853 0.910 66.253 0.650 -0.180 0.627 2.430 1.124 1.007 0.560 0.326 0.070 0.199 2.247 \n",
            "5.477 0.033 5.541 5.413 10.189 0.903 64.703 0.718 -0.111 0.845 2.430 1.241 0.992 0.511 0.409 0.115 0.060 2.148 \n",
            "5.477 0.049 5.573 5.380 11.000 0.836 76.820 0.717 0.067 0.403 2.430 1.525 0.841 0.893 0.408 0.232 0.342 1.236 \n",
            "5.466 0.034 5.532 5.400 8.091 0.860 64.281 0.832 -0.056 0.553 2.430 0.508 0.895 0.498 0.548 0.152 0.247 2.619 \n",
            "5.411 0.039 5.488 5.334 8.973 0.850 68.034 0.940 -0.098 0.796 2.430 0.817 0.873 0.616 0.679 0.124 0.091 2.211 \n",
            "5.410 0.076 5.558 5.262 9.622 0.827 62.300 0.771 -0.087 0.667 2.430 1.044 0.821 0.435 0.474 0.131 0.174 2.331 \n",
            "5.384 0.049 5.480 5.289 10.238 0.817 67.102 0.895 0.125 0.839 2.430 1.259 0.797 0.587 0.624 0.270 0.064 1.784 \n",
            "5.345 0.056 5.454 5.235 9.365 0.811 62.236 0.873 0.542 0.867 2.430 0.954 0.786 0.433 0.598 0.541 0.046 1.987 \n",
            "5.342 0.097 5.533 5.151 8.117 0.636 58.221 0.695 -0.068 0.745 2.430 0.518 0.392 0.307 0.381 0.144 0.124 3.476 \n",
            "5.339 0.029 5.397 5.281 9.673 0.811 69.593 0.904 -0.146 0.755 2.430 1.061 0.785 0.665 0.636 0.093 0.117 1.982 \n",
            "5.306 0.078 5.460 5.152 8.551 0.644 50.114 0.741 -0.016 0.794 2.430 0.669 0.409 0.052 0.438 0.177 0.092 3.469 \n",
            "5.283 0.058 5.397 5.168 9.487 0.799 67.055 0.825 -0.168 0.629 2.430 0.996 0.758 0.585 0.540 0.079 0.198 2.127 \n",
            "5.269 0.070 5.406 5.132 8.120 0.774 64.233 0.782 0.152 0.727 2.430 0.519 0.702 0.496 0.488 0.287 0.135 2.642 \n",
            "5.266 0.054 5.371 5.160 10.016 0.931 67.000 0.788 -0.096 0.932 2.430 1.181 1.055 0.583 0.494 0.125 0.005 1.823 \n",
            "5.198 0.072 5.339 5.057 9.826 0.913 70.600 0.854 0.024 0.825 2.430 1.115 1.015 0.697 0.575 0.204 0.073 1.520 \n",
            "5.171 0.040 5.250 5.091 9.569 0.836 65.656 0.814 -0.223 0.506 2.430 1.025 0.841 0.541 0.526 0.043 0.276 1.919 \n",
            "5.142 0.074 5.288 4.996 8.189 0.710 53.515 0.731 0.026 0.848 2.430 0.543 0.556 0.159 0.425 0.205 0.058 3.195 \n",
            "5.132 0.068 5.266 4.998 8.118 0.710 59.802 0.695 -0.046 0.801 2.430 0.518 0.558 0.357 0.381 0.158 0.088 3.071 \n",
            "5.117 0.059 5.234 5.001 9.520 0.697 68.999 0.785 -0.030 0.901 2.430 1.008 0.529 0.646 0.491 0.168 0.024 2.250 \n",
            "5.101 0.051 5.202 5.001 9.693 0.805 65.474 0.751 0.038 0.905 2.430 1.068 0.772 0.535 0.450 0.212 0.022 2.042 \n",
            "5.088 0.067 5.219 4.958 8.580 0.727 57.586 0.807 0.123 0.848 2.430 0.680 0.595 0.287 0.517 0.268 0.058 2.684 \n",
            "5.074 0.102 5.273 4.875 7.098 0.641 53.780 0.806 0.018 0.693 2.430 0.162 0.402 0.167 0.516 0.200 0.157 3.470 \n",
            "5.066 0.036 5.136 4.996 9.629 0.983 62.409 0.877 0.273 0.888 2.430 1.046 1.172 0.439 0.602 0.366 0.033 1.409 \n",
            "5.051 0.089 5.225 4.877 7.686 0.690 55.160 0.697 0.424 0.746 2.430 0.367 0.511 0.210 0.384 0.465 0.123 2.990 \n",
            "5.045 0.073 5.189 4.901 8.087 0.489 54.713 0.757 -0.034 0.661 2.430 0.507 0.058 0.196 0.457 0.166 0.178 3.482 \n",
            "5.030 0.045 5.119 4.941 8.947 0.728 58.968 0.910 0.123 0.658 2.430 0.808 0.598 0.330 0.643 0.268 0.179 2.204 \n",
            "5.025 0.046 5.115 4.934 8.454 0.693 64.800 0.877 -0.041 0.682 2.430 0.635 0.520 0.514 0.603 0.161 0.164 2.427 \n",
            "4.984 0.090 5.160 4.808 7.838 0.639 55.008 0.697 0.095 0.766 2.430 0.420 0.399 0.206 0.384 0.250 0.111 3.216 \n",
            "4.956 0.060 5.074 4.839 9.403 0.860 56.904 0.749 -0.067 0.860 2.430 0.967 0.895 0.265 0.447 0.144 0.051 2.187 \n",
            "4.948 0.046 5.038 4.857 10.240 0.822 67.199 0.576 -0.139 0.776 2.430 1.260 0.809 0.590 0.236 0.097 0.104 1.852 \n",
            "4.934 0.068 5.066 4.802 8.458 0.651 58.709 0.726 0.098 0.787 2.430 0.637 0.423 0.322 0.418 0.252 0.097 2.784 \n",
            "4.918 0.060 5.036 4.800 8.903 0.560 66.208 0.774 -0.236 0.801 2.430 0.792 0.219 0.558 0.477 0.034 0.088 2.749 \n",
            "4.892 0.064 5.017 4.767 9.073 0.861 66.700 0.615 -0.169 0.827 2.430 0.852 0.897 0.574 0.284 0.078 0.072 2.135 \n",
            "4.891 0.054 4.998 4.785 9.585 0.671 64.300 0.783 -0.238 0.655 2.430 1.030 0.470 0.498 0.488 0.032 0.181 2.191 \n",
            "4.887 0.053 4.991 4.783 9.342 0.802 66.005 0.480 -0.067 0.752 2.430 0.946 0.765 0.552 0.119 0.144 0.120 2.242 \n",
            "4.875 0.052 4.977 4.773 9.436 0.888 64.902 0.724 -0.011 0.924 2.430 0.979 0.958 0.517 0.417 0.181 0.010 1.813 \n",
            "4.854 0.059 4.970 4.738 9.240 0.746 60.583 0.630 -0.053 0.875 2.430 0.910 0.638 0.381 0.302 0.153 0.041 2.429 \n",
            "4.852 0.075 4.998 4.706 9.603 0.776 59.962 0.731 -0.200 0.840 2.430 1.037 0.707 0.362 0.424 0.058 0.064 2.201 \n",
            "4.834 0.081 4.993 4.675 7.678 0.672 54.151 0.695 -0.009 0.748 2.430 0.364 0.472 0.179 0.381 0.182 0.122 3.133 \n",
            "4.830 0.067 4.963 4.698 8.360 0.765 62.000 0.959 0.034 0.843 2.430 0.603 0.680 0.426 0.702 0.210 0.061 2.148 \n",
            "4.794 0.103 4.997 4.592 7.158 0.744 54.706 0.882 0.061 0.684 2.430 0.183 0.634 0.196 0.608 0.228 0.163 2.783 \n",
            "4.759 0.052 4.861 4.658 8.533 0.740 50.102 0.737 0.037 0.878 2.430 0.663 0.625 0.051 0.433 0.212 0.039 2.736 \n",
            "4.723 0.082 4.884 4.563 7.744 0.724 51.969 0.697 -0.036 0.827 2.430 0.387 0.590 0.110 0.384 0.164 0.072 3.016 \n",
            "4.721 0.055 4.828 4.614 9.584 0.710 66.300 0.608 0.218 0.714 2.430 1.030 0.557 0.561 0.275 0.330 0.144 1.823 \n",
            "4.636 0.073 4.780 4.493 7.677 0.781 56.101 0.709 0.122 0.855 2.430 0.364 0.718 0.240 0.398 0.267 0.054 2.596 \n",
            "4.625 0.106 4.833 4.417 7.288 0.720 56.498 0.735 0.050 0.850 2.430 0.228 0.580 0.253 0.430 0.221 0.057 2.857 \n",
            "4.607 0.072 4.747 4.466 8.361 0.688 60.704 0.779 0.287 0.825 2.430 0.603 0.508 0.385 0.483 0.375 0.073 2.180 \n",
            "4.596 0.058 4.709 4.484 9.266 0.691 67.201 0.656 -0.201 0.870 2.430 0.919 0.515 0.590 0.334 0.057 0.044 2.138 \n",
            "4.584 0.055 4.691 4.477 9.626 0.848 67.355 0.525 -0.073 0.898 2.430 1.045 0.868 0.595 0.175 0.140 0.026 1.736 \n",
            "4.574 0.064 4.700 4.448 9.161 0.818 56.799 0.719 -0.149 0.847 2.430 0.882 0.801 0.262 0.411 0.091 0.059 2.068 \n",
            "4.517 0.067 4.649 4.384 8.485 0.826 62.250 0.653 -0.163 0.821 2.430 0.646 0.819 0.434 0.330 0.082 0.075 2.131 \n",
            "4.426 0.052 4.527 4.324 8.541 0.779 59.302 0.876 0.509 0.660 2.430 0.666 0.713 0.341 0.601 0.520 0.178 1.407 \n",
            "4.395 0.062 4.516 4.273 9.182 0.767 67.000 0.755 -0.167 0.705 2.430 0.890 0.685 0.583 0.455 0.079 0.150 1.553 \n",
            "4.355 0.094 4.540 4.171 7.364 0.619 48.478 0.579 0.041 0.807 2.430 0.255 0.353 0.000 0.240 0.215 0.084 3.209 \n",
            "4.325 0.066 4.454 4.196 9.470 0.827 67.299 0.841 0.079 0.863 2.430 0.990 0.820 0.593 0.559 0.239 0.049 1.075 \n",
            "4.308 0.071 4.448 4.168 9.065 0.770 50.833 0.647 -0.185 0.708 2.430 0.849 0.693 0.074 0.323 0.067 0.147 2.155 \n",
            "4.289 0.084 4.454 4.123 8.031 0.626 57.349 0.548 0.082 0.781 2.430 0.488 0.367 0.279 0.202 0.241 0.101 2.610 \n",
            "4.283 0.045 4.371 4.195 9.367 0.750 61.998 0.749 -0.182 0.795 2.430 0.954 0.647 0.426 0.446 0.069 0.092 1.648 \n",
            "4.275 0.051 4.374 4.175 7.694 0.764 59.000 0.752 0.082 0.761 2.430 0.370 0.679 0.331 0.451 0.241 0.114 2.089 \n",
            "4.227 0.070 4.365 4.090 8.542 0.795 57.161 0.561 -0.106 0.731 2.430 0.666 0.749 0.273 0.218 0.119 0.133 2.069 \n",
            "4.208 0.072 4.349 4.068 7.396 0.686 59.305 0.552 -0.005 0.803 2.430 0.266 0.503 0.341 0.207 0.185 0.087 2.620 \n",
            "4.107 0.077 4.258 3.956 7.362 0.569 54.914 0.619 0.032 0.772 2.430 0.254 0.239 0.203 0.289 0.209 0.107 2.806 \n",
            "4.073 0.069 4.209 3.938 8.145 0.708 55.809 0.782 0.061 0.823 2.430 0.528 0.552 0.231 0.487 0.227 0.074 1.975 \n",
            "3.849 0.077 4.001 3.698 7.434 0.630 51.651 0.717 0.084 0.866 2.430 0.279 0.377 0.100 0.408 0.243 0.047 2.396 \n",
            "3.819 0.026 3.869 3.769 8.755 0.603 60.633 0.893 0.089 0.774 2.430 0.741 0.316 0.383 0.622 0.246 0.106 1.405 \n",
            "3.775 0.107 3.985 3.565 6.635 0.490 53.400 0.626 -0.024 0.607 2.430 0.000 0.062 0.155 0.298 0.172 0.212 2.876 \n",
            "3.658 0.070 3.794 3.521 7.578 0.832 57.122 0.602 -0.147 0.800 2.430 0.329 0.831 0.272 0.268 0.092 0.089 1.776 \n",
            "3.623 0.071 3.762 3.485 7.876 0.702 57.999 0.833 0.183 0.577 2.430 0.433 0.540 0.300 0.549 0.307 0.231 1.263 \n",
            "3.615 0.173 3.953 3.276 7.477 0.540 55.700 0.593 0.422 0.721 2.430 0.294 0.173 0.227 0.257 0.463 0.139 2.060 \n",
            "3.600 0.092 3.781 3.419 6.958 0.537 57.948 0.780 0.038 0.729 2.430 0.113 0.168 0.298 0.484 0.213 0.134 2.190 \n",
            "3.512 0.120 3.748 3.276 7.926 0.787 48.700 0.715 -0.131 0.915 2.430 0.451 0.731 0.007 0.405 0.103 0.015 1.800 \n",
            "3.467 0.074 3.611 3.322 9.782 0.784 59.269 0.824 -0.246 0.801 2.430 1.099 0.724 0.340 0.539 0.027 0.088 0.648 \n",
            "3.415 0.068 3.548 3.282 7.676 0.552 61.400 0.897 0.061 0.167 2.430 0.364 0.202 0.407 0.627 0.227 0.493 1.095 \n",
            "3.145 0.058 3.259 3.030 7.943 0.750 56.201 0.677 -0.047 0.821 2.430 0.457 0.649 0.243 0.359 0.157 0.075 1.205 \n",
            "2.523 0.038 2.596 2.449 7.695 0.463 52.493 0.382 -0.102 0.924 2.430 0.370 0.000 0.126 0.000 0.122 0.010 1.895 \n"
          ]
        }
      ]
    },
    {
      "cell_type": "markdown",
      "source": [
        "Average Corruption"
      ],
      "metadata": {
        "id": "Fe-RXtc_Ei4t"
      }
    },
    {
      "cell_type": "code",
      "source": [
        "import csv \n",
        "import matplotlib.pyplot as plt \n",
        "\n",
        "filePath = \"world-happiness-report-2021.csv\"\n",
        "\n",
        "with open(filePath) as file :\n",
        "    reader = csv.reader(file)\n",
        "    header = next(reader)\n",
        "    data = []\n",
        "    for row in reader :\n",
        "        data.append(row)\n",
        "file.close()\n",
        "\n",
        "print(\"------Mean Corruption--------\")\n",
        "sum = 0.0\n",
        "for i in range(0, len(data)):\n",
        "    sum += float(data[i][11])\n",
        "print(\"Average corruption is : \", (sum/len(data)))"
      ],
      "metadata": {
        "colab": {
          "base_uri": "https://localhost:8080/"
        },
        "id": "L9s5lO4HElO-",
        "outputId": "950fea4f-0eb7-4bef-d13b-10956e48835e"
      },
      "execution_count": 5,
      "outputs": [
        {
          "output_type": "stream",
          "name": "stdout",
          "text": [
            "------Mean Corruption--------\n",
            "Average corruption is :  0.7274496644295301\n"
          ]
        }
      ]
    },
    {
      "cell_type": "markdown",
      "source": [
        "Plotting a graf of corruntion \n"
      ],
      "metadata": {
        "id": "5loX25kUF_jM"
      }
    },
    {
      "cell_type": "code",
      "source": [
        "import csv \n",
        "import matplotlib.pyplot as plt \n",
        "\n",
        "filePath = \"world-happiness-report-2021.csv\"\n",
        "\n",
        "with open(filePath) as file :\n",
        "    reader = csv.reader(file)\n",
        "    header = next(reader)\n",
        "    data = []\n",
        "    for row in reader :\n",
        "        data.append(row)\n",
        "file.close()\n",
        "\n",
        "indexes = []\n",
        "\n",
        "step = 5\n",
        "bins = []\n",
        "for i in range(1, 27):\n",
        "  bins.append(i*step)\n",
        "\n",
        "for i in range(0, len(data)):\n",
        "    indexes.append(data[i][11])\n",
        "\n",
        "print(indexes)\n",
        "plt.hist(indexes, edgecolor='black', bins=bins)\n",
        "\n",
        "\n",
        "\n"
      ],
      "metadata": {
        "colab": {
          "base_uri": "https://localhost:8080/",
          "height": 389
        },
        "id": "JTvpvHrmGDxZ",
        "outputId": "679bde20-ce80-41d2-a168-787a4880e581"
      },
      "execution_count": 16,
      "outputs": [
        {
          "output_type": "stream",
          "name": "stdout",
          "text": [
            "['0.186', '0.179', '0.292', '0.673', '0.338', '0.270', '0.237', '0.386', '0.242', '0.481', '0.442', '0.753', '0.460', '0.415', '0.363', '0.809', '0.459', '0.868', '0.698', '0.646', '0.571', '0.722', '0.653', '0.721', '0.589', '0.684', '0.745', '0.866', '0.806', '0.775', '0.590', '0.082', '0.917', '0.911', '0.756', '0.799', '0.884', '0.826', '0.844', '0.527', '0.856', '0.515', '0.830', '0.735', '0.733', '0.938', '0.736', '0.835', '0.688', '0.789', '0.800', '0.841', '0.876', '0.895', '0.664', '0.638', '0.834', '0.887', '0.809', '0.939', '0.742', '0.727', '0.891', '0.931', '0.918', '0.843', '0.908', '0.823', '0.839', '0.856', '0.882', '0.812', '0.714', '0.626', '0.627', '0.845', '0.403', '0.553', '0.796', '0.667', '0.839', '0.867', '0.745', '0.755', '0.794', '0.629', '0.727', '0.932', '0.825', '0.506', '0.848', '0.801', '0.901', '0.905', '0.848', '0.693', '0.888', '0.746', '0.661', '0.658', '0.682', '0.766', '0.860', '0.776', '0.787', '0.801', '0.827', '0.655', '0.752', '0.924', '0.875', '0.840', '0.748', '0.843', '0.684', '0.878', '0.827', '0.714', '0.855', '0.850', '0.825', '0.870', '0.898', '0.847', '0.821', '0.660', '0.705', '0.807', '0.863', '0.708', '0.781', '0.795', '0.761', '0.731', '0.803', '0.772', '0.823', '0.866', '0.774', '0.607', '0.800', '0.577', '0.721', '0.729', '0.915', '0.801', '0.167', '0.821', '0.924']\n"
          ]
        },
        {
          "output_type": "execute_result",
          "data": {
            "text/plain": [
              "(array([5., 5., 6., 6., 8., 5., 5., 6., 5., 6., 5., 7., 7., 6., 5., 6., 8.,\n",
              "        5., 6., 6., 5., 6., 5., 5., 5.]),\n",
              " array([  5,  10,  15,  20,  25,  30,  35,  40,  45,  50,  55,  60,  65,\n",
              "         70,  75,  80,  85,  90,  95, 100, 105, 110, 115, 120, 125, 130]),\n",
              " <a list of 25 Patch objects>)"
            ]
          },
          "metadata": {},
          "execution_count": 16
        },
        {
          "output_type": "display_data",
          "data": {
            "text/plain": [
              "<Figure size 432x288 with 1 Axes>"
            ],
            "image/png": "[encoded data removed]"
          },
          "metadata": {
            "needs_background": "light"
          }
        }
      ]
    },
    {
      "cell_type": "markdown",
      "source": [
        "Top 10 counties with highest perseption "
      ],
      "metadata": {
        "id": "btHJwITCKrR9"
      }
    },
    {
      "cell_type": "code",
      "source": [
        "import csv \n",
        "import matplotlib.pyplot as plt \n",
        "\n",
        "filePath = \"world-happiness-report-2021.csv\"\n",
        "\n",
        "with open(filePath) as file :\n",
        "    reader = csv.reader(file)\n",
        "    header = next(reader)\n",
        "    data = []\n",
        "    for row in reader :\n",
        "        data.append(row)\n",
        "file.close()\n",
        "\n",
        "\n",
        "for i in range(0, len(data)):\n",
        "  for j in range(i, len(data)):\n",
        "    if(data[i][11] < data[j][11]):\n",
        "      buff = data[i]\n",
        "      data[i] = data[j]\n",
        "      data[j] = buff\n",
        "\n",
        "for i in range(0, 10):\n",
        "  print(data[i][0])\n",
        "\n"
      ],
      "metadata": {
        "colab": {
          "base_uri": "https://localhost:8080/"
        },
        "id": "msImH5bsKzgQ",
        "outputId": "01f05cfd-3de8-4913-b390-b6099ba13b46"
      },
      "execution_count": 17,
      "outputs": [
        {
          "output_type": "stream",
          "name": "stdout",
          "text": [
            "Croatia\n",
            "Romania\n",
            "Bulgaria\n",
            "Bosnia and Herzegovina\n",
            "Ukraine\n",
            "Afghanistan\n",
            "Moldova\n",
            "Kosovo\n",
            "Lesotho\n",
            "Slovakia\n"
          ]
        }
      ]
    },
    {
      "cell_type": "markdown",
      "source": [
        "Healthy life ranking \n"
      ],
      "metadata": {
        "id": "rhavhwWILpOj"
      }
    },
    {
      "cell_type": "code",
      "source": [
        "import csv \n",
        "import matplotlib.pyplot as plt \n",
        "\n",
        "filePath = \"world-happiness-report-2021.csv\"\n",
        "\n",
        "with open(filePath) as file :\n",
        "    reader = csv.reader(file)\n",
        "    header = next(reader)\n",
        "    data = []\n",
        "    for row in reader :\n",
        "        data.append(row)\n",
        "file.close()\n",
        "\n",
        "\n",
        "for i in range(0, len(data)):\n",
        "  for j in range(i, len(data)):\n",
        "    if(data[i][8] < data[j][8]):\n",
        "      buff = data[i]\n",
        "      data[i] = data[j]\n",
        "      data[j] = buff\n",
        "\n",
        "for i in range(0, len(data)):\n",
        "  print(data[i][0])\n"
      ],
      "metadata": {
        "colab": {
          "base_uri": "https://localhost:8080/"
        },
        "id": "xWznTgHhL3vz",
        "outputId": "27af87f8-af99-4f90-aed1-0f82bbebd38d"
      },
      "execution_count": 18,
      "outputs": [
        {
          "output_type": "stream",
          "name": "stdout",
          "text": [
            "Singapore\n",
            "Hong Kong S.A.R. of China\n",
            "Japan\n",
            "Spain\n",
            "Switzerland\n",
            "France\n",
            "South Korea\n",
            "Australia\n",
            "North Cyprus\n",
            "Cyprus\n",
            "Canada\n",
            "Italy\n",
            "Israel\n",
            "New Zealand\n",
            "Norway\n",
            "Austria\n",
            "Iceland\n",
            "Denmark\n",
            "Sweden\n",
            "Greece\n",
            "Portugal\n",
            "Luxembourg\n",
            "United Kingdom\n",
            "Germany\n",
            "Netherlands\n",
            "Ireland\n",
            "Malta\n",
            "Belgium\n",
            "Finland\n",
            "Costa Rica\n",
            "Slovenia\n",
            "Czech Republic\n",
            "Croatia\n",
            "Maldives\n",
            "Chile\n",
            "Poland\n",
            "Panama\n",
            "Taiwan Province of China\n",
            "China\n",
            "Bahrain\n",
            "Slovakia\n",
            "Uruguay\n",
            "Argentina\n",
            "Albania\n",
            "Estonia\n",
            "Ecuador\n",
            "Montenegro\n",
            "Serbia\n",
            "Mexico\n",
            "Peru\n",
            "United States\n",
            "Bosnia and Herzegovina\n",
            "Vietnam\n",
            "Colombia\n",
            "Hungary\n",
            "Lithuania\n",
            "Nicaragua\n",
            "Jamaica\n",
            "Thailand\n",
            "Romania\n",
            "Lebanon\n",
            "United Arab Emirates\n",
            "Honduras\n",
            "Sri Lanka\n",
            "Tunisia\n",
            "Turkey\n",
            "Malaysia\n",
            "Latvia\n",
            "Armenia\n",
            "Jordan\n",
            "Bulgaria\n",
            "Kuwait\n",
            "Mauritius\n",
            "Venezuela\n",
            "Saudi Arabia\n",
            "Brazil\n",
            "El Salvador\n",
            "Iran\n",
            "Belarus\n",
            "Morocco\n",
            "Dominican Republic\n",
            "Algeria\n",
            "Paraguay\n",
            "Moldova\n",
            "Azerbaijan\n",
            "North Macedonia\n",
            "Uzbekistan\n",
            "Kazakhstan\n",
            "Guatemala\n",
            "Ukraine\n",
            "Bangladesh\n",
            "Russia\n",
            "Kyrgyzstan\n",
            "Georgia\n",
            "Tajikistan\n",
            "Nepal\n",
            "Bolivia\n",
            "Kosovo\n",
            "Mongolia\n",
            "Turkmenistan\n",
            "Libya\n",
            "Palestinian Territories\n",
            "Indonesia\n",
            "Philippines\n",
            "Cambodia\n",
            "Egypt\n",
            "Rwanda\n",
            "Kenya\n",
            "India\n",
            "Iraq\n",
            "Gabon\n",
            "Senegal\n",
            "Madagascar\n",
            "Myanmar\n",
            "Botswana\n",
            "Ethiopia\n",
            "Laos\n",
            "Pakistan\n",
            "Congo (Brazzaville)\n",
            "Tanzania\n",
            "Malawi\n",
            "Ghana\n",
            "Comoros\n",
            "Mauritania\n",
            "Yemen\n",
            "South Africa\n",
            "Namibia\n",
            "Liberia\n",
            "Zimbabwe\n",
            "Uganda\n",
            "Zambia\n",
            "Haiti\n",
            "Gambia\n",
            "Guinea\n",
            "Togo\n",
            "Benin\n",
            "Mozambique\n",
            "Burkina Faso\n",
            "Niger\n",
            "Cameroon\n",
            "Burundi\n",
            "Afghanistan\n",
            "Mali\n",
            "Sierra Leone\n",
            "Swaziland\n",
            "Ivory Coast\n",
            "Nigeria\n",
            "Lesotho\n",
            "Chad\n"
          ]
        }
      ]
    },
    {
      "cell_type": "markdown",
      "source": [
        "Hist diagram of Ladder score "
      ],
      "metadata": {
        "id": "Fq_59QNqNagK"
      }
    },
    {
      "cell_type": "code",
      "source": [
        "import csv \n",
        "import matplotlib.pyplot as plt \n",
        "\n",
        "filePath = \"world-happiness-report-2021.csv\"\n",
        "\n",
        "with open(filePath) as file :\n",
        "    reader = csv.reader(file)\n",
        "    header = next(reader)\n",
        "    data = []\n",
        "    for row in reader :\n",
        "        data.append(row)\n",
        "file.close()\n",
        "\n",
        "checkedRegions = []\n",
        "averagePerRegion = []\n",
        "\n",
        "for i in range(0, len(data)):\n",
        "    if data[i][1] not in checkedRegions:\n",
        "      checkedRegions.append(data[i][1])\n",
        "      sum = 0.0\n",
        "      amount = 0.0\n",
        "      for j in range(0 , len(data)):\n",
        "        if(data[i][1] == data[j][1]):\n",
        "          amount += 1\n",
        "          sum += float(data[j][2])\n",
        "      averagePerRegion.append(sum/amount)\n",
        "\n",
        "print(averagePerRegion)\n",
        "plt.hist(averagePerRegion,edgecolor='black')\n",
        "\n"
      ],
      "metadata": {
        "colab": {
          "base_uri": "https://localhost:8080/",
          "height": 389
        },
        "id": "EKaECIjLN6Sr",
        "outputId": "a1c46a0b-f8d3-4a01-83ba-24e874350933"
      },
      "execution_count": 27,
      "outputs": [
        {
          "output_type": "stream",
          "name": "stdout",
          "text": [
            "[6.914904761904763, 7.128500000000001, 5.219764705882353, 5.908049999999999, 5.9847647058823545, 5.810333333333333, 5.407555555555556, 5.467000000000001, 4.494472222222223, 4.441857142857143]\n"
          ]
        },
        {
          "output_type": "execute_result",
          "data": {
            "text/plain": [
              "(array([2., 0., 1., 2., 0., 3., 0., 0., 0., 2.]),\n",
              " array([4.44185714, 4.71052143, 4.97918571, 5.24785   , 5.51651429,\n",
              "        5.78517857, 6.05384286, 6.32250714, 6.59117143, 6.85983571,\n",
              "        7.1285    ]),\n",
              " <a list of 10 Patch objects>)"
            ]
          },
          "metadata": {},
          "execution_count": 27
        },
        {
          "output_type": "display_data",
          "data": {
            "text/plain": [
              "<Figure size 432x288 with 1 Axes>"
            ],
            "image/png": "[encoded data removed]"
          },
          "metadata": {
            "needs_background": "light"
          }
        }
      ]
    },
    {
      "cell_type": "markdown",
      "source": [
        "Middle East North Africa different \"Perception of Corruption\" data.\n"
      ],
      "metadata": {
        "id": "wOLUdIHLWLvC"
      }
    },
    {
      "cell_type": "code",
      "source": [
        "import csv \n",
        "import matplotlib.pyplot as plt \n",
        "\n",
        "filePath = \"world-happiness-report-2021.csv\"\n",
        "\n",
        "with open(filePath) as file :\n",
        "    reader = csv.reader(file)\n",
        "    header = next(reader)\n",
        "    data = []\n",
        "    for row in reader :\n",
        "        data.append(row)\n",
        "file.close()\n",
        "\n",
        "values = []\n",
        "\n",
        "for i in range(0,len(data)):\n",
        "   if data[i][1] == \"Middle East and North Africa\" : \n",
        "     values.append(data[i][11])\n",
        "\n",
        "\n",
        "\n",
        "plt.hist(values,edgecolor='black')\n"
      ],
      "metadata": {
        "colab": {
          "base_uri": "https://localhost:8080/",
          "height": 317
        },
        "id": "eV_MOoPhWEx-",
        "outputId": "61c98347-ed0f-4afd-e0dc-69162a116972"
      },
      "execution_count": 28,
      "outputs": [
        {
          "output_type": "execute_result",
          "data": {
            "text/plain": [
              "(array([2., 2., 1., 2., 1., 2., 2., 1., 2., 2.]),\n",
              " array([ 0. ,  1.6,  3.2,  4.8,  6.4,  8. ,  9.6, 11.2, 12.8, 14.4, 16. ]),\n",
              " <a list of 10 Patch objects>)"
            ]
          },
          "metadata": {},
          "execution_count": 28
        },
        {
          "output_type": "display_data",
          "data": {
            "text/plain": [
              "<Figure size 432x288 with 1 Axes>"
            ],
            "image/png": "[encoded data removed]"
          },
          "metadata": {
            "needs_background": "light"
          }
        }
      ]
    },
    {
      "cell_type": "markdown",
      "source": [],
      "metadata": {
        "id": "c3cTv28ZXaHs"
      }
    }
  ]
}